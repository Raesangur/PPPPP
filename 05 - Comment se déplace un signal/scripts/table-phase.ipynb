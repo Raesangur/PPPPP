{
 "cells": [
  {
   "cell_type": "code",
   "execution_count": 1,
   "id": "ef87d3db",
   "metadata": {},
   "outputs": [],
   "source": [
    "import pandas as pd\n",
    "import os\n"
   ]
  },
  {
   "cell_type": "code",
   "execution_count": 2,
   "id": "6d97c2f5",
   "metadata": {},
   "outputs": [
    {
     "data": {
      "text/html": [
       "<div>\n",
       "<style scoped>\n",
       "    .dataframe tbody tr th:only-of-type {\n",
       "        vertical-align: middle;\n",
       "    }\n",
       "\n",
       "    .dataframe tbody tr th {\n",
       "        vertical-align: top;\n",
       "    }\n",
       "\n",
       "    .dataframe thead th {\n",
       "        text-align: right;\n",
       "    }\n",
       "</style>\n",
       "<table border=\"1\" class=\"dataframe\">\n",
       "  <thead>\n",
       "    <tr style=\"text-align: right;\">\n",
       "      <th></th>\n",
       "      <th>Material (2x resistivity)</th>\n",
       "      <th>\\makecell{Phase Velocity\\\\$v_p$ at 1 GHz (km/s)}</th>\n",
       "    </tr>\n",
       "  </thead>\n",
       "  <tbody>\n",
       "    <tr>\n",
       "      <th>0</th>\n",
       "      <td>Aluminum</td>\n",
       "      <td>23.0</td>\n",
       "    </tr>\n",
       "    <tr>\n",
       "      <th>1</th>\n",
       "      <td>Copper</td>\n",
       "      <td>18.3</td>\n",
       "    </tr>\n",
       "    <tr>\n",
       "      <th>2</th>\n",
       "      <td>Gold</td>\n",
       "      <td>21.0</td>\n",
       "    </tr>\n",
       "    <tr>\n",
       "      <th>3</th>\n",
       "      <td>Silver</td>\n",
       "      <td>17.8</td>\n",
       "    </tr>\n",
       "    <tr>\n",
       "      <th>4</th>\n",
       "      <td>Titanium</td>\n",
       "      <td>290.0</td>\n",
       "    </tr>\n",
       "  </tbody>\n",
       "</table>\n",
       "</div>"
      ],
      "text/plain": [
       "  Material (2x resistivity)  \\makecell{Phase Velocity\\\\$v_p$ at 1 GHz (km/s)}\n",
       "0                  Aluminum                                              23.0\n",
       "1                    Copper                                              18.3\n",
       "2                      Gold                                              21.0\n",
       "3                    Silver                                              17.8\n",
       "4                  Titanium                                             290.0"
      ]
     },
     "execution_count": 2,
     "metadata": {},
     "output_type": "execute_result"
    }
   ],
   "source": [
    "\n",
    "df = pd.DataFrame({\n",
    "    \"Material (2x resistivity)\": [r\"Aluminum\", r\"Copper\", r\"Gold\", r\"Silver\", r\"Titanium\"],\n",
    "    r\"\\makecell{Phase Velocity\\\\$v_p$ at 1 GHz (km/s)}\": [23.0, 18.3, 21.0, 17.8, 290]\n",
    "})\n",
    "\n",
    "df"
   ]
  },
  {
   "cell_type": "code",
   "execution_count": 3,
   "id": "537c55d7",
   "metadata": {},
   "outputs": [],
   "source": [
    "# Output path (make sure directory exists)\n",
    "output_path = \"../tables/phase-velocity.tex\"\n",
    "os.makedirs(os.path.dirname(output_path), exist_ok=True)\n",
    "\n",
    "# Generate LaTeX string\n",
    "latex = df.to_latex(\n",
    "    index=False,\n",
    "    escape=False,\n",
    "    header=True,\n",
    "    column_format='l|c',\n",
    "    float_format=\"%.1f\",\n",
    "    bold_rows=True,\n",
    "    caption=\"Phase velocity of different material (MW design p.27)\", \n",
    "    label=\"tab:phase-velocity\",\n",
    ")\n",
    "\n",
    "# Inject \\hline after the header\n",
    "lines = latex.splitlines()\n",
    "for i, line in enumerate(lines):\n",
    "    if r'\\midrule' in line:\n",
    "        lines.insert(i + 1, r'\\hline')\n",
    "        break\n",
    "latex = '\\n'.join(lines)\n",
    "\n",
    "# Write to file\n",
    "with open(output_path, \"w\") as f:\n",
    "    f.write(latex)"
   ]
  }
 ],
 "metadata": {
  "kernelspec": {
   "display_name": "base",
   "language": "python",
   "name": "python3"
  },
  "language_info": {
   "codemirror_mode": {
    "name": "ipython",
    "version": 3
   },
   "file_extension": ".py",
   "mimetype": "text/x-python",
   "name": "python",
   "nbconvert_exporter": "python",
   "pygments_lexer": "ipython3",
   "version": "3.12.2"
  }
 },
 "nbformat": 4,
 "nbformat_minor": 5
}
