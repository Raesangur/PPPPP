{
 "cells": [
  {
   "cell_type": "code",
   "execution_count": 1,
   "id": "ef87d3db",
   "metadata": {},
   "outputs": [],
   "source": [
    "import pandas as pd\n",
    "import os\n"
   ]
  },
  {
   "cell_type": "code",
   "execution_count": 2,
   "id": "6d97c2f5",
   "metadata": {},
   "outputs": [
    {
     "data": {
      "text/html": [
       "<div>\n",
       "<style scoped>\n",
       "    .dataframe tbody tr th:only-of-type {\n",
       "        vertical-align: middle;\n",
       "    }\n",
       "\n",
       "    .dataframe tbody tr th {\n",
       "        vertical-align: top;\n",
       "    }\n",
       "\n",
       "    .dataframe thead th {\n",
       "        text-align: right;\n",
       "    }\n",
       "</style>\n",
       "<table border=\"1\" class=\"dataframe\">\n",
       "  <thead>\n",
       "    <tr style=\"text-align: right;\">\n",
       "      <th></th>\n",
       "      <th>Material (Single Crystal)</th>\n",
       "      <th>\\makecell{Electrical Conductivity\\\\$\\sigma$ (MS$\\cdot$m$^{-1}$) at 1GHz}</th>\n",
       "    </tr>\n",
       "  </thead>\n",
       "  <tbody>\n",
       "    <tr>\n",
       "      <th>0</th>\n",
       "      <td>Aluminum</td>\n",
       "      <td>37.700</td>\n",
       "    </tr>\n",
       "    <tr>\n",
       "      <th>1</th>\n",
       "      <td>Copper</td>\n",
       "      <td>59.600</td>\n",
       "    </tr>\n",
       "    <tr>\n",
       "      <th>2</th>\n",
       "      <td>Gold</td>\n",
       "      <td>45.200</td>\n",
       "    </tr>\n",
       "    <tr>\n",
       "      <th>3</th>\n",
       "      <td>Silver</td>\n",
       "      <td>63.000</td>\n",
       "    </tr>\n",
       "    <tr>\n",
       "      <th>4</th>\n",
       "      <td>Titanium</td>\n",
       "      <td>0.238</td>\n",
       "    </tr>\n",
       "  </tbody>\n",
       "</table>\n",
       "</div>"
      ],
      "text/plain": [
       "  Material (Single Crystal)  \\\n",
       "0                  Aluminum   \n",
       "1                    Copper   \n",
       "2                      Gold   \n",
       "3                    Silver   \n",
       "4                  Titanium   \n",
       "\n",
       "   \\makecell{Electrical Conductivity\\\\$\\sigma$ (MS$\\cdot$m$^{-1}$) at 1GHz}  \n",
       "0                                             37.700                         \n",
       "1                                             59.600                         \n",
       "2                                             45.200                         \n",
       "3                                             63.000                         \n",
       "4                                              0.238                         "
      ]
     },
     "execution_count": 2,
     "metadata": {},
     "output_type": "execute_result"
    }
   ],
   "source": [
    "\n",
    "df = pd.DataFrame({\n",
    "    \"Material (Single Crystal)\": [r\"Aluminum\", r\"Copper\", r\"Gold\", r\"Silver\", r\"Titanium\"],\n",
    "    r\"\\makecell{Electrical Conductivity\\\\$\\sigma$ (MS$\\cdot$m$^{-1}$) at 1GHz}\": [37.7, 59.6, 45.2, 63.0, 0.238]\n",
    "})\n",
    "\n",
    "df"
   ]
  },
  {
   "cell_type": "code",
   "execution_count": 3,
   "id": "537c55d7",
   "metadata": {},
   "outputs": [],
   "source": [
    "# Output path (make sure directory exists)\n",
    "output_path = \"../tables/conductivity.tex\"\n",
    "os.makedirs(os.path.dirname(output_path), exist_ok=True)\n",
    "\n",
    "# Generate LaTeX string\n",
    "latex = df.to_latex(\n",
    "    index=False,\n",
    "    escape=False,\n",
    "    header=True,\n",
    "    column_format='l|c',\n",
    "    float_format=\"%.3f\",\n",
    "    bold_rows=True,\n",
    "    caption=\"Conductivity of different material (MW design p.27)\", \n",
    "    label=\"tab:conductivity\",\n",
    ")\n",
    "\n",
    "# Inject \\hline after the header\n",
    "lines = latex.splitlines()\n",
    "for i, line in enumerate(lines):\n",
    "    if r'\\midrule' in line:\n",
    "        lines.insert(i + 1, r'\\hline')\n",
    "        break\n",
    "latex = '\\n'.join(lines)\n",
    "\n",
    "# Write to file\n",
    "with open(output_path, \"w\") as f:\n",
    "    f.write(latex)"
   ]
  }
 ],
 "metadata": {
  "kernelspec": {
   "display_name": "base",
   "language": "python",
   "name": "python3"
  },
  "language_info": {
   "codemirror_mode": {
    "name": "ipython",
    "version": 3
   },
   "file_extension": ".py",
   "mimetype": "text/x-python",
   "name": "python",
   "nbconvert_exporter": "python",
   "pygments_lexer": "ipython3",
   "version": "3.12.2"
  }
 },
 "nbformat": 4,
 "nbformat_minor": 5
}
